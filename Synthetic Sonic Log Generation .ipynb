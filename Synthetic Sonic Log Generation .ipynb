{
 "cells": [
  {
   "cell_type": "markdown",
   "metadata": {},
   "source": [
    "# Synthetic Sonic Log Generation "
   ]
  },
  {
   "cell_type": "markdown",
   "metadata": {},
   "source": [
    "### <a> Data Decription</a>\n",
    "#### Files\n",
    "&gt; #### train.csv\n",
    "All the values equals to -999 are marked as missing values.\n",
    "- CAL - Caliper, unit in Inch,  \n",
    "- CNC - Neutron, unit in dec \n",
    "- GR - Gamma Ray, unit in API\n",
    "- HRD - Deep Resisitivity, unit in Ohm per meter,\n",
    "- HRM - Medium Resistivity, unit in Ohm per meter,\n",
    "- PE - Photo-electric Factor, unit in Barn,\n",
    "- ZDEN - Density, unit in Gram per cubit meter, \n",
    "- DTC - Compressional Travel-time, unit in nanosecond per foot,\n",
    "- DTS - Shear Travel-time, unit in nanosecond per foot,\n",
    "\n",
    "\n",
    "&gt; #### test.csv\n",
    "The test data has all features that you used in the train dataset, except the two sonic curves DTC and DTS.\n",
    "\n",
    "&gt; ####  sample_submission.csv\n",
    "A valid sample submission.\n",
    "<p><font style=\"\">\n",
    "</font></p>"
   ]
  },
  {
   "cell_type": "markdown",
   "metadata": {},
   "source": [
    "## <a>2. Imports</a>"
   ]
  },
  {
   "cell_type": "markdown",
   "metadata": {},
   "source": [
    "<a>Top</a>"
   ]
  },
  {
   "cell_type": "code",
   "execution_count": 1,
   "metadata": {},
   "outputs": [],
   "source": [
    "# import libraries\n",
    "import pandas as pd\n",
    "import numpy as np\n",
    "\n",
    "%matplotlib inline\n",
    "import matplotlib.pyplot as plt\n",
    "import seaborn as sb\n",
    "# import sklearn libararies\n",
    "from sklearn.linear_model import LinearRegression, RidgeCV\n",
    "from sklearn.preprocessing import StandardScaler, Imputer\n",
    "from sklearn.ensemble import RandomForestRegressor, GradientBoostingRegressor\n",
    "from sklearn.model_selection import train_test_split\n",
    "from sklearn.metrics import r2_score, mean_squared_error, mean_squared_error\n",
    "from sklearn.model_selection import GridSearchCV\n",
    "from sklearn.linear_model import LogisticRegression \n",
    "from sklearn.neural_network import MLPRegressor\n"
   ]
  },
  {
   "cell_type": "markdown",
   "metadata": {},
   "source": [
    "## <a>3. Read Data</a>"
   ]
  },
  {
   "cell_type": "markdown",
   "metadata": {},
   "source": [
    "<a>Top</a>"
   ]
  },
  {
   "cell_type": "code",
   "execution_count": 2,
   "metadata": {
    "scrolled": true
   },
   "outputs": [],
   "source": [
    "df1 = pd.read_csv('train.csv')\n"
   ]
  },
  {
   "cell_type": "markdown",
   "metadata": {},
   "source": [
    "## <a>4. Glimps Data</a>"
   ]
  },
  {
   "cell_type": "markdown",
   "metadata": {},
   "source": [
    "<a>Top</a>"
   ]
  },
  {
   "cell_type": "code",
   "execution_count": 3,
   "metadata": {},
   "outputs": [
    {
     "data": {
      "text/html": [
       "<div>\n",
       "<style scoped>\n",
       "    .dataframe tbody tr th:only-of-type {\n",
       "        vertical-align: middle;\n",
       "    }\n",
       "\n",
       "    .dataframe tbody tr th {\n",
       "        vertical-align: top;\n",
       "    }\n",
       "\n",
       "    .dataframe thead th {\n",
       "        text-align: right;\n",
       "    }\n",
       "</style>\n",
       "<table border=\"1\" class=\"dataframe\">\n",
       "  <thead>\n",
       "    <tr style=\"text-align: right;\">\n",
       "      <th></th>\n",
       "      <th>CAL</th>\n",
       "      <th>CNC</th>\n",
       "      <th>GR</th>\n",
       "      <th>HRD</th>\n",
       "      <th>HRM</th>\n",
       "      <th>PE</th>\n",
       "      <th>ZDEN</th>\n",
       "      <th>DTC</th>\n",
       "      <th>DTS</th>\n",
       "    </tr>\n",
       "  </thead>\n",
       "  <tbody>\n",
       "    <tr>\n",
       "      <th>count</th>\n",
       "      <td>30143.000000</td>\n",
       "      <td>30143.000000</td>\n",
       "      <td>30143.000000</td>\n",
       "      <td>30143.000000</td>\n",
       "      <td>30143.000000</td>\n",
       "      <td>30143.000000</td>\n",
       "      <td>30143.000000</td>\n",
       "      <td>30143.000000</td>\n",
       "      <td>30143.000000</td>\n",
       "    </tr>\n",
       "    <tr>\n",
       "      <th>mean</th>\n",
       "      <td>-8.394576</td>\n",
       "      <td>-23.692615</td>\n",
       "      <td>38.959845</td>\n",
       "      <td>3.977690</td>\n",
       "      <td>1.547299</td>\n",
       "      <td>-17.446739</td>\n",
       "      <td>-20.229982</td>\n",
       "      <td>-54.891703</td>\n",
       "      <td>-9.737567</td>\n",
       "    </tr>\n",
       "    <tr>\n",
       "      <th>std</th>\n",
       "      <td>129.970219</td>\n",
       "      <td>157.142679</td>\n",
       "      <td>108.504554</td>\n",
       "      <td>365.112753</td>\n",
       "      <td>456.908969</td>\n",
       "      <td>149.083136</td>\n",
       "      <td>148.809506</td>\n",
       "      <td>372.858812</td>\n",
       "      <td>440.314119</td>\n",
       "    </tr>\n",
       "    <tr>\n",
       "      <th>min</th>\n",
       "      <td>-999.000000</td>\n",
       "      <td>-999.000000</td>\n",
       "      <td>-999.000000</td>\n",
       "      <td>-999.000000</td>\n",
       "      <td>-999.000000</td>\n",
       "      <td>-999.000000</td>\n",
       "      <td>-999.000000</td>\n",
       "      <td>-999.000000</td>\n",
       "      <td>-999.000000</td>\n",
       "    </tr>\n",
       "    <tr>\n",
       "      <th>25%</th>\n",
       "      <td>8.058350</td>\n",
       "      <td>0.122800</td>\n",
       "      <td>17.248750</td>\n",
       "      <td>0.717700</td>\n",
       "      <td>0.712050</td>\n",
       "      <td>0.053100</td>\n",
       "      <td>2.226700</td>\n",
       "      <td>66.304350</td>\n",
       "      <td>118.534350</td>\n",
       "    </tr>\n",
       "    <tr>\n",
       "      <th>50%</th>\n",
       "      <td>8.625000</td>\n",
       "      <td>0.193600</td>\n",
       "      <td>36.821800</td>\n",
       "      <td>1.623000</td>\n",
       "      <td>1.628100</td>\n",
       "      <td>4.941500</td>\n",
       "      <td>2.432200</td>\n",
       "      <td>78.355100</td>\n",
       "      <td>137.689300</td>\n",
       "    </tr>\n",
       "    <tr>\n",
       "      <th>75%</th>\n",
       "      <td>9.048850</td>\n",
       "      <td>0.337150</td>\n",
       "      <td>58.346150</td>\n",
       "      <td>3.158300</td>\n",
       "      <td>3.280600</td>\n",
       "      <td>7.856650</td>\n",
       "      <td>2.551350</td>\n",
       "      <td>107.022500</td>\n",
       "      <td>182.973150</td>\n",
       "    </tr>\n",
       "    <tr>\n",
       "      <th>max</th>\n",
       "      <td>21.064200</td>\n",
       "      <td>3490.158200</td>\n",
       "      <td>1470.253400</td>\n",
       "      <td>10000.000000</td>\n",
       "      <td>60467.761700</td>\n",
       "      <td>28.106400</td>\n",
       "      <td>3.259700</td>\n",
       "      <td>155.980300</td>\n",
       "      <td>487.438400</td>\n",
       "    </tr>\n",
       "  </tbody>\n",
       "</table>\n",
       "</div>"
      ],
      "text/plain": [
       "                CAL           CNC            GR           HRD           HRM  \\\n",
       "count  30143.000000  30143.000000  30143.000000  30143.000000  30143.000000   \n",
       "mean      -8.394576    -23.692615     38.959845      3.977690      1.547299   \n",
       "std      129.970219    157.142679    108.504554    365.112753    456.908969   \n",
       "min     -999.000000   -999.000000   -999.000000   -999.000000   -999.000000   \n",
       "25%        8.058350      0.122800     17.248750      0.717700      0.712050   \n",
       "50%        8.625000      0.193600     36.821800      1.623000      1.628100   \n",
       "75%        9.048850      0.337150     58.346150      3.158300      3.280600   \n",
       "max       21.064200   3490.158200   1470.253400  10000.000000  60467.761700   \n",
       "\n",
       "                 PE          ZDEN           DTC           DTS  \n",
       "count  30143.000000  30143.000000  30143.000000  30143.000000  \n",
       "mean     -17.446739    -20.229982    -54.891703     -9.737567  \n",
       "std      149.083136    148.809506    372.858812    440.314119  \n",
       "min     -999.000000   -999.000000   -999.000000   -999.000000  \n",
       "25%        0.053100      2.226700     66.304350    118.534350  \n",
       "50%        4.941500      2.432200     78.355100    137.689300  \n",
       "75%        7.856650      2.551350    107.022500    182.973150  \n",
       "max       28.106400      3.259700    155.980300    487.438400  "
      ]
     },
     "execution_count": 3,
     "metadata": {},
     "output_type": "execute_result"
    }
   ],
   "source": [
    "df1.describe()"
   ]
  },
  {
   "cell_type": "markdown",
   "metadata": {},
   "source": [
    "## <a>5. Exploratory Data Analysis</a>"
   ]
  },
  {
   "cell_type": "markdown",
   "metadata": {},
   "source": [
    "<a>Top</a>"
   ]
  },
  {
   "cell_type": "markdown",
   "metadata": {},
   "source": [
    "Exploratory Data Analysis (EDA) is an open-ended process where we calculate statistics and make figures to find trends, missing values, outliers, anomalies, patterns, or relationships within the data. "
   ]
  },
  {
   "cell_type": "code",
   "execution_count": 4,
   "metadata": {},
   "outputs": [
    {
     "data": {
      "text/html": [
       "<div>\n",
       "<style scoped>\n",
       "    .dataframe tbody tr th:only-of-type {\n",
       "        vertical-align: middle;\n",
       "    }\n",
       "\n",
       "    .dataframe tbody tr th {\n",
       "        vertical-align: top;\n",
       "    }\n",
       "\n",
       "    .dataframe thead th {\n",
       "        text-align: right;\n",
       "    }\n",
       "</style>\n",
       "<table border=\"1\" class=\"dataframe\">\n",
       "  <thead>\n",
       "    <tr style=\"text-align: right;\">\n",
       "      <th></th>\n",
       "      <th>CAL</th>\n",
       "      <th>CNC</th>\n",
       "      <th>GR</th>\n",
       "      <th>HRD</th>\n",
       "      <th>HRM</th>\n",
       "      <th>PE</th>\n",
       "      <th>ZDEN</th>\n",
       "      <th>DTC</th>\n",
       "      <th>DTS</th>\n",
       "    </tr>\n",
       "  </thead>\n",
       "  <tbody>\n",
       "    <tr>\n",
       "      <th>count</th>\n",
       "      <td>20525.000000</td>\n",
       "      <td>20525.000000</td>\n",
       "      <td>20525.000000</td>\n",
       "      <td>20525.000000</td>\n",
       "      <td>20525.000000</td>\n",
       "      <td>20525.000000</td>\n",
       "      <td>20525.000000</td>\n",
       "      <td>20525.000000</td>\n",
       "      <td>20525.000000</td>\n",
       "    </tr>\n",
       "    <tr>\n",
       "      <th>mean</th>\n",
       "      <td>8.426679</td>\n",
       "      <td>0.274416</td>\n",
       "      <td>49.889253</td>\n",
       "      <td>2.598719</td>\n",
       "      <td>5.835466</td>\n",
       "      <td>3.833792</td>\n",
       "      <td>2.410734</td>\n",
       "      <td>88.312221</td>\n",
       "      <td>182.051067</td>\n",
       "    </tr>\n",
       "    <tr>\n",
       "      <th>std</th>\n",
       "      <td>1.845912</td>\n",
       "      <td>3.062495</td>\n",
       "      <td>54.811017</td>\n",
       "      <td>3.465665</td>\n",
       "      <td>422.449589</td>\n",
       "      <td>4.375818</td>\n",
       "      <td>0.181713</td>\n",
       "      <td>23.542419</td>\n",
       "      <td>84.670122</td>\n",
       "    </tr>\n",
       "    <tr>\n",
       "      <th>min</th>\n",
       "      <td>5.930400</td>\n",
       "      <td>0.014500</td>\n",
       "      <td>1.038900</td>\n",
       "      <td>0.123600</td>\n",
       "      <td>0.134100</td>\n",
       "      <td>-0.023200</td>\n",
       "      <td>0.680600</td>\n",
       "      <td>49.970500</td>\n",
       "      <td>80.580400</td>\n",
       "    </tr>\n",
       "    <tr>\n",
       "      <th>25%</th>\n",
       "      <td>6.629100</td>\n",
       "      <td>0.120300</td>\n",
       "      <td>16.036800</td>\n",
       "      <td>0.810000</td>\n",
       "      <td>0.797300</td>\n",
       "      <td>0.049800</td>\n",
       "      <td>2.236100</td>\n",
       "      <td>70.423100</td>\n",
       "      <td>127.148800</td>\n",
       "    </tr>\n",
       "    <tr>\n",
       "      <th>50%</th>\n",
       "      <td>8.578100</td>\n",
       "      <td>0.187700</td>\n",
       "      <td>37.498000</td>\n",
       "      <td>1.814900</td>\n",
       "      <td>1.829300</td>\n",
       "      <td>3.287800</td>\n",
       "      <td>2.466500</td>\n",
       "      <td>79.695400</td>\n",
       "      <td>142.678500</td>\n",
       "    </tr>\n",
       "    <tr>\n",
       "      <th>75%</th>\n",
       "      <td>8.671900</td>\n",
       "      <td>0.329000</td>\n",
       "      <td>61.140700</td>\n",
       "      <td>3.337400</td>\n",
       "      <td>3.463300</td>\n",
       "      <td>7.061300</td>\n",
       "      <td>2.563700</td>\n",
       "      <td>102.482800</td>\n",
       "      <td>192.757800</td>\n",
       "    </tr>\n",
       "    <tr>\n",
       "      <th>max</th>\n",
       "      <td>21.064200</td>\n",
       "      <td>365.885000</td>\n",
       "      <td>1470.253400</td>\n",
       "      <td>206.718200</td>\n",
       "      <td>60467.761700</td>\n",
       "      <td>28.106400</td>\n",
       "      <td>3.259700</td>\n",
       "      <td>155.980300</td>\n",
       "      <td>487.438400</td>\n",
       "    </tr>\n",
       "  </tbody>\n",
       "</table>\n",
       "</div>"
      ],
      "text/plain": [
       "                CAL           CNC            GR           HRD           HRM  \\\n",
       "count  20525.000000  20525.000000  20525.000000  20525.000000  20525.000000   \n",
       "mean       8.426679      0.274416     49.889253      2.598719      5.835466   \n",
       "std        1.845912      3.062495     54.811017      3.465665    422.449589   \n",
       "min        5.930400      0.014500      1.038900      0.123600      0.134100   \n",
       "25%        6.629100      0.120300     16.036800      0.810000      0.797300   \n",
       "50%        8.578100      0.187700     37.498000      1.814900      1.829300   \n",
       "75%        8.671900      0.329000     61.140700      3.337400      3.463300   \n",
       "max       21.064200    365.885000   1470.253400    206.718200  60467.761700   \n",
       "\n",
       "                 PE          ZDEN           DTC           DTS  \n",
       "count  20525.000000  20525.000000  20525.000000  20525.000000  \n",
       "mean       3.833792      2.410734     88.312221    182.051067  \n",
       "std        4.375818      0.181713     23.542419     84.670122  \n",
       "min       -0.023200      0.680600     49.970500     80.580400  \n",
       "25%        0.049800      2.236100     70.423100    127.148800  \n",
       "50%        3.287800      2.466500     79.695400    142.678500  \n",
       "75%        7.061300      2.563700    102.482800    192.757800  \n",
       "max       28.106400      3.259700    155.980300    487.438400  "
      ]
     },
     "execution_count": 4,
     "metadata": {},
     "output_type": "execute_result"
    }
   ],
   "source": [
    "# remove all rows that contains missing value\n",
    "df1.replace(['-999', -999], np.nan, inplace=True)\n",
    "df1.dropna(axis=0, inplace=True)\n",
    "df1.describe()"
   ]
  },
  {
   "cell_type": "code",
   "execution_count": 5,
   "metadata": {},
   "outputs": [
    {
     "data": {
      "text/plain": [
       "['CAL', 'CNC', 'GR', 'HRD', 'HRM', 'PE', 'ZDEN', 'DTC', 'DTS']"
      ]
     },
     "execution_count": 5,
     "metadata": {},
     "output_type": "execute_result"
    }
   ],
   "source": [
    "df1.columns.tolist()"
   ]
  },
  {
   "cell_type": "code",
   "execution_count": 6,
   "metadata": {},
   "outputs": [
    {
     "data": {
      "text/plain": [
       "<matplotlib.collections.PathCollection at 0x7f2dc5332a90>"
      ]
     },
     "execution_count": 6,
     "metadata": {},
     "output_type": "execute_result"
    },
    {
     "data": {
      "image/png": "[encoded data removed]",
      "text/plain": [
       "<Figure size 432x288 with 1 Axes>"
      ]
     },
     "metadata": {
      "needs_background": "light"
     },
     "output_type": "display_data"
    }
   ],
   "source": [
    "# check if there's any co-linearity between features\n",
    "# you may check this for all of the features and see if there's any good finding. \n",
    "plt.scatter(df1['CAL'], df1['DTC'])"
   ]
  },
  {
   "cell_type": "code",
   "execution_count": 7,
   "metadata": {},
   "outputs": [
    {
     "data": {
      "text/plain": [
       "<seaborn.axisgrid.PairGrid at 0x7f2dc52af978>"
      ]
     },
     "execution_count": 7,
     "metadata": {},
     "output_type": "execute_result"
    },
    {
     "data": {
      "image/png": "[encoded data removed]",
      "text/plain": [
       "<Figure size 360x360 with 6 Axes>"
      ]
     },
     "metadata": {
      "needs_background": "light"
     },
     "output_type": "display_data"
    }
   ],
   "source": [
    "# another library from Seaborn to check the co-linearity\n",
    "sb.pairplot(df1[['ZDEN', 'DTC']])"
   ]
  },
  {
   "cell_type": "markdown",
   "metadata": {},
   "source": [
    "## <a>6. Build Machine Learning Models</a>"
   ]
  },
  {
   "cell_type": "markdown",
   "metadata": {},
   "source": [
    "<a>Top</a>"
   ]
  },
  {
   "cell_type": "code",
   "execution_count": 37,
   "metadata": {},
   "outputs": [
    {
     "name": "stdout",
     "output_type": "stream",
     "text": [
      "(20525, 9)\n"
     ]
    }
   ],
   "source": [
    "# seperate the features and targets\n",
    "df1_data= df1.values\n",
    "print(df1_data.shape)\n",
    "y_trainwell1 = df1_data[:,-2:]\n",
    "x_trainwell1 = df1_data[:,:-2]\n",
    "\n",
    "# standize the matrix for training data\n",
    "from sklearn import preprocessing\n",
    "scaler = StandardScaler()\n",
    "x_trainwell1 = scaler.fit_transform(x_trainwell1)"
   ]
  },
  {
   "cell_type": "code",
   "execution_count": 38,
   "metadata": {},
   "outputs": [
    {
     "name": "stdout",
     "output_type": "stream",
     "text": [
      "[[125.9611 306.8676]\n",
      " [125.9726 305.8347]\n",
      " [125.8528 305.9089]\n",
      " [125.7362 305.1737]\n",
      " [125.9774 304.4476]]\n",
      "(20525, 2)\n"
     ]
    }
   ],
   "source": [
    "print(y_trainwell1[:5][:])\n",
    "print(y_trainwell1.shape)"
   ]
  },
  {
   "cell_type": "code",
   "execution_count": 39,
   "metadata": {},
   "outputs": [
    {
     "name": "stdout",
     "output_type": "stream",
     "text": [
      "(16420, 7)\n",
      "(16420, 2)\n"
     ]
    }
   ],
   "source": [
    "# train test split\n",
    "# please remember to use random_state for all randomization steps, this will ensure we get the same results \n",
    "# as yours during the validation phase. \n",
    "X_train, X_val_and_test, y_train, y_val_and_test = train_test_split(x_trainwell1, y_trainwell1, test_size=0.2, random_state=100)\n",
    "print(X_train.shape)\n",
    "X_val, X_test, y_val, y_test = train_test_split(X_val_and_test, y_val_and_test, test_size=0.5)\n",
    "print(y_train.shape)"
   ]
  },
  {
   "cell_type": "code",
   "execution_count": 40,
   "metadata": {},
   "outputs": [
    {
     "name": "stdout",
     "output_type": "stream",
     "text": [
      "_________________________________________________________________\n",
      "Layer (type)                 Output Shape              Param #   \n",
      "=================================================================\n",
      "dense_6 (Dense)              (None, 32)                256       \n",
      "_________________________________________________________________\n",
      "dense_7 (Dense)              (None, 16)                528       \n",
      "_________________________________________________________________\n",
      "dense_8 (Dense)              (None, 8)                 136       \n",
      "_________________________________________________________________\n",
      "dense_9 (Dense)              (None, 2)                 18        \n",
      "_________________________________________________________________\n",
      "dense_10 (Dense)             (None, 2)                 6         \n",
      "=================================================================\n",
      "Total params: 944\n",
      "Trainable params: 944\n",
      "Non-trainable params: 0\n",
      "_________________________________________________________________\n"
     ]
    }
   ],
   "source": [
    "#predicting using ANN\n",
    "from keras.models import Sequential\n",
    "from keras.layers import Dense\n",
    "# Building An MLP \n",
    "from keras.layers import Flatten\n",
    "model = Sequential() \n",
    "model.add(Dense(32, input_dim = X_train.shape[1], activation = 'relu'))\n",
    "model.add(Dense(16, activation = 'relu'))\n",
    "model.add(Dense(8, activation = 'relu'))\n",
    "model.add(Dense(2, activation='relu'))\n",
    "model.add(Dense(2, activation = 'linear'))\n",
    "model.compile(loss = 'mse', optimizer = 'adam', metrics = ['accuracy'])\n",
    "\n",
    "# Model summary \n",
    "model.summary() "
   ]
  },
  {
   "cell_type": "markdown",
   "metadata": {},
   "source": [
    "## <a>7. Prediction</a>"
   ]
  },
  {
   "cell_type": "code",
   "execution_count": 41,
   "metadata": {},
   "outputs": [
    {
     "name": "stdout",
     "output_type": "stream",
     "text": [
      "Train on 16420 samples, validate on 2052 samples\n",
      "Epoch 1/30\n",
      "16420/16420 [==============================] - 12s 701us/step - loss: 14896.2789 - acc: 0.9918 - val_loss: 7582.6470 - val_acc: 1.0000\n",
      "Epoch 2/30\n",
      "16420/16420 [==============================] - 11s 641us/step - loss: 4953.2551 - acc: 1.0000 - val_loss: 2455.9028 - val_acc: 1.0000\n",
      "Epoch 3/30\n",
      "16420/16420 [==============================] - 12s 703us/step - loss: 1760.6651 - acc: 1.0000 - val_loss: 891.1915 - val_acc: 1.0000\n",
      "Epoch 4/30\n",
      "16420/16420 [==============================] - 11s 655us/step - loss: 932.9070 - acc: 1.0000 - val_loss: 599.1459 - val_acc: 1.0000\n",
      "Epoch 5/30\n",
      "16420/16420 [==============================] - 11s 668us/step - loss: 658.2831 - acc: 1.0000 - val_loss: 532.0072 - val_acc: 1.0000\n",
      "Epoch 6/30\n",
      "16420/16420 [==============================] - 11s 683us/step - loss: 531.7066 - acc: 0.9999 - val_loss: 493.5442 - val_acc: 1.0000\n",
      "Epoch 7/30\n",
      "16420/16420 [==============================] - 10s 635us/step - loss: 456.3674 - acc: 0.9999 - val_loss: 456.1933 - val_acc: 1.0000\n",
      "Epoch 8/30\n",
      "16420/16420 [==============================] - 11s 649us/step - loss: 401.9691 - acc: 0.9999 - val_loss: 420.2630 - val_acc: 1.0000\n",
      "Epoch 9/30\n",
      "16420/16420 [==============================] - 10s 632us/step - loss: 367.6402 - acc: 0.9999 - val_loss: 390.1724 - val_acc: 1.0000\n",
      "Epoch 10/30\n",
      "16420/16420 [==============================] - 11s 650us/step - loss: 346.9361 - acc: 0.9999 - val_loss: 376.7186 - val_acc: 1.0000\n",
      "Epoch 11/30\n",
      "16420/16420 [==============================] - 10s 633us/step - loss: 332.2854 - acc: 0.9999 - val_loss: 357.9464 - val_acc: 1.0000\n",
      "Epoch 12/30\n",
      "16420/16420 [==============================] - 11s 644us/step - loss: 318.9227 - acc: 0.9999 - val_loss: 340.6541 - val_acc: 1.0000\n",
      "Epoch 13/30\n",
      "16420/16420 [==============================] - 11s 665us/step - loss: 310.6089 - acc: 0.9999 - val_loss: 330.9428 - val_acc: 1.0000\n",
      "Epoch 14/30\n",
      "16420/16420 [==============================] - 11s 644us/step - loss: 302.5701 - acc: 0.9999 - val_loss: 314.3107 - val_acc: 1.0000\n",
      "Epoch 15/30\n",
      "16420/16420 [==============================] - 12s 721us/step - loss: 295.4512 - acc: 0.9999 - val_loss: 303.4648 - val_acc: 1.0000\n",
      "Epoch 16/30\n",
      "16420/16420 [==============================] - 11s 649us/step - loss: 287.7729 - acc: 0.9999 - val_loss: 301.8531 - val_acc: 1.0000\n",
      "Epoch 17/30\n",
      "16420/16420 [==============================] - 11s 654us/step - loss: 281.8221 - acc: 0.9999 - val_loss: 296.8983 - val_acc: 1.0000\n",
      "Epoch 18/30\n",
      "16420/16420 [==============================] - 11s 674us/step - loss: 276.8342 - acc: 0.9999 - val_loss: 281.2985 - val_acc: 1.0000\n",
      "Epoch 19/30\n",
      "16420/16420 [==============================] - 11s 661us/step - loss: 269.7739 - acc: 0.9999 - val_loss: 285.6624 - val_acc: 1.0000\n",
      "Epoch 20/30\n",
      "16420/16420 [==============================] - 11s 641us/step - loss: 264.6873 - acc: 0.9999 - val_loss: 276.4066 - val_acc: 1.0000\n",
      "Epoch 21/30\n",
      "16420/16420 [==============================] - 12s 738us/step - loss: 259.4115 - acc: 0.9999 - val_loss: 271.5173 - val_acc: 1.0000\n",
      "Epoch 22/30\n",
      "16420/16420 [==============================] - 11s 647us/step - loss: 254.7661 - acc: 0.9999 - val_loss: 279.4467 - val_acc: 1.0000: 0.99\n",
      "Epoch 23/30\n",
      "16420/16420 [==============================] - 10s 637us/step - loss: 261.1486 - acc: 0.9999 - val_loss: 273.2230 - val_acc: 1.0000\n",
      "Epoch 24/30\n",
      "16420/16420 [==============================] - 11s 649us/step - loss: 245.5221 - acc: 0.9999 - val_loss: 251.5801 - val_acc: 1.0000\n",
      "Epoch 25/30\n",
      "16420/16420 [==============================] - 11s 641us/step - loss: 240.8621 - acc: 0.9999 - val_loss: 243.6998 - val_acc: 1.0000\n",
      "Epoch 26/30\n",
      "16420/16420 [==============================] - 10s 636us/step - loss: 237.7296 - acc: 0.9999 - val_loss: 243.3656 - val_acc: 1.0000\n",
      "Epoch 27/30\n",
      "16420/16420 [==============================] - 12s 727us/step - loss: 232.9872 - acc: 0.9999 - val_loss: 238.2504 - val_acc: 1.0000\n",
      "Epoch 28/30\n",
      "16420/16420 [==============================] - 11s 642us/step - loss: 230.2161 - acc: 0.9999 - val_loss: 241.0380 - val_acc: 1.0000\n",
      "Epoch 29/30\n",
      "16420/16420 [==============================] - 11s 651us/step - loss: 226.6662 - acc: 0.9999 - val_loss: 234.8574 - val_acc: 1.0000\n",
      "Epoch 30/30\n",
      "16420/16420 [==============================] - 11s 699us/step - loss: 222.3542 - acc: 0.9999 - val_loss: 225.1245 - val_acc: 1.0000\n"
     ]
    }
   ],
   "source": [
    "hist = model.fit(X_train, y_train,\n",
    "          batch_size=32, epochs=30,\n",
    "          validation_data=(X_val, y_val))"
   ]
  },
  {
   "cell_type": "markdown",
   "metadata": {},
   "source": [
    "<a>Top</a>"
   ]
  },
  {
   "cell_type": "code",
   "execution_count": 42,
   "metadata": {},
   "outputs": [
    {
     "name": "stdout",
     "output_type": "stream",
     "text": [
      "[[ 0.08203273  0.02536682  0.09657322 -0.51553228 -0.01196495  0.68453048\n",
      "  -0.46851864]\n",
      " [ 0.08203273  0.02921998  0.12994323 -0.51792726 -0.01198555  0.68016548\n",
      "  -0.46906897]\n",
      " [ 0.08203273  0.03130983  0.16488049 -0.53506725 -0.01214533  0.67253243\n",
      "  -0.49273318]\n",
      " [ 0.07358141  0.03013429  0.13577067 -0.54300242 -0.01226511  0.66003161\n",
      "  -0.54391391]\n",
      " [ 0.08203273  0.02468108  0.05789392 -0.55235151 -0.01236761  0.640949\n",
      "  -0.61930917]]\n"
     ]
    }
   ],
   "source": [
    "# load test data from well 2\n",
    "df2 = pd.read_csv('test.csv')\n",
    "# Remove missing \n",
    "for col in df2.columns.tolist():\n",
    "    df2[col][df2[col]==-999] = np.nan\n",
    "df2.dropna(axis=0, inplace=True)\n",
    "df2_data = np.array(df2)\n",
    "x_trainwell2 = df2_data\n",
    "x_trainwell2 = scaler.transform(x_trainwell2)\n",
    "#print(y_trainwell2.head())\n",
    "print(x_trainwell2[:5][:])"
   ]
  },
  {
   "cell_type": "code",
   "execution_count": 43,
   "metadata": {},
   "outputs": [
    {
     "name": "stdout",
     "output_type": "stream",
     "text": [
      "2053/2053 [==============================] - 0s 164us/step\n",
      "\n",
      "The model is 99.95% Accurate.\n"
     ]
    },
    {
     "data": {
      "image/png": "[encoded data removed]",
      "text/plain": [
       "<Figure size 1440x576 with 1 Axes>"
      ]
     },
     "metadata": {
      "needs_background": "light"
     },
     "output_type": "display_data"
    }
   ],
   "source": [
    "# Evaulating the model accuracy  \n",
    "accuracy = model.evaluate(X_test, y_test)[1] * 100 \n",
    "accuracy = str(accuracy)[:5]\n",
    "!echo \n",
    "print('The model is {}% Accurate.'.format(accuracy))\n",
    "\n",
    "#plotting the model accuracy\n",
    "# showing a plot of the loss with respect to the number of epochs \n",
    "plt.figure(figsize=(20, 8))\n",
    "plt.grid(True)\n",
    "plt.plot(hist.history['loss'])\n",
    "plt.plot(hist.history['val_loss'])\n",
    "plt.title('Model loss')\n",
    "plt.ylabel('Loss')\n",
    "plt.xlabel('Epoch')\n",
    "plt.legend(['Train', 'Val'], loc='upper right')\n",
    "plt.show()"
   ]
  },
  {
   "cell_type": "code",
   "execution_count": 44,
   "metadata": {},
   "outputs": [
    {
     "data": {
      "text/plain": [
       "array([[ 95.243286, 211.25827 ],\n",
       "       [ 95.74148 , 212.51683 ],\n",
       "       [ 96.519966, 214.4835  ],\n",
       "       [ 96.228   , 213.74591 ],\n",
       "       [ 95.52054 , 211.9587  ]], dtype=float32)"
      ]
     },
     "execution_count": 44,
     "metadata": {},
     "output_type": "execute_result"
    }
   ],
   "source": [
    "# run the prediction\n",
    "well2_predict = model.predict(x_trainwell2)\n",
    "well2_predict[:5, :]"
   ]
  },
  {
   "cell_type": "code",
   "execution_count": 45,
   "metadata": {},
   "outputs": [
    {
     "data": {
      "image/png": "[encoded data removed]",
      "text/plain": [
       "<Figure size 1152x360 with 2 Axes>"
      ]
     },
     "metadata": {
      "needs_background": "light"
     },
     "output_type": "display_data"
    }
   ],
   "source": [
    "# plot the prediction results \n",
    "plt.subplots(nrows=1, ncols=2, figsize=(16,5))\n",
    "plt.subplot(1, 2, 1)\n",
    "plt.plot(well2_predict[:, 0])\n",
    "plt.legend(['Predicted'])\n",
    "plt.xlabel('Sample')\n",
    "plt.ylabel('DTC')\n",
    "plt.title('DTC Prediction Comparison')\n",
    "plt.plot\n",
    "\n",
    "plt.subplot(1, 2, 2)\n",
    "plt.plot(well2_predict[:, 1])\n",
    "plt.legend(['Predicted'])\n",
    "plt.xlabel('Sample')\n",
    "plt.ylabel('DTS')\n",
    "plt.title('DTS Prediction Comparison')\n",
    "\n",
    "\n",
    "plt.show()\n",
    "\n",
    "\n"
   ]
  },
  {
   "cell_type": "code",
   "execution_count": 46,
   "metadata": {},
   "outputs": [
    {
     "data": {
      "text/html": [
       "<div>\n",
       "<style scoped>\n",
       "    .dataframe tbody tr th:only-of-type {\n",
       "        vertical-align: middle;\n",
       "    }\n",
       "\n",
       "    .dataframe tbody tr th {\n",
       "        vertical-align: top;\n",
       "    }\n",
       "\n",
       "    .dataframe thead th {\n",
       "        text-align: right;\n",
       "    }\n",
       "</style>\n",
       "<table border=\"1\" class=\"dataframe\">\n",
       "  <thead>\n",
       "    <tr style=\"text-align: right;\">\n",
       "      <th></th>\n",
       "      <th>DTC</th>\n",
       "      <th>DTS</th>\n",
       "    </tr>\n",
       "  </thead>\n",
       "  <tbody>\n",
       "    <tr>\n",
       "      <th>0</th>\n",
       "      <td>95.243286</td>\n",
       "      <td>211.258270</td>\n",
       "    </tr>\n",
       "    <tr>\n",
       "      <th>1</th>\n",
       "      <td>95.741478</td>\n",
       "      <td>212.516830</td>\n",
       "    </tr>\n",
       "    <tr>\n",
       "      <th>2</th>\n",
       "      <td>96.519966</td>\n",
       "      <td>214.483505</td>\n",
       "    </tr>\n",
       "    <tr>\n",
       "      <th>3</th>\n",
       "      <td>96.227997</td>\n",
       "      <td>213.745911</td>\n",
       "    </tr>\n",
       "    <tr>\n",
       "      <th>4</th>\n",
       "      <td>95.520538</td>\n",
       "      <td>211.958694</td>\n",
       "    </tr>\n",
       "  </tbody>\n",
       "</table>\n",
       "</div>"
      ],
      "text/plain": [
       "         DTC         DTS\n",
       "0  95.243286  211.258270\n",
       "1  95.741478  212.516830\n",
       "2  96.519966  214.483505\n",
       "3  96.227997  213.745911\n",
       "4  95.520538  211.958694"
      ]
     },
     "execution_count": 46,
     "metadata": {},
     "output_type": "execute_result"
    }
   ],
   "source": [
    "output_result = pd.DataFrame({'DTC':well2_predict[:,0], 'DTS':well2_predict[:,1]})\n",
    "output_result.head()"
   ]
  },
  {
   "cell_type": "code",
   "execution_count": 47,
   "metadata": {},
   "outputs": [],
   "source": [
    "#output_result.to_csv(path_or_buf='./sample_submission.csv', index=False)\n",
    "output_result.to_csv(path_or_buf='sample_submission2_19.csv', index=False)"
   ]
  }
 ],
 "metadata": {
  "kernelspec": {
   "display_name": "Python",
   "language": "python",
   "name": "conda-env-python-py"
  },
  "language_info": {
   "codemirror_mode": {
    "name": "ipython",
    "version": 3
   },
   "file_extension": ".py",
   "mimetype": "text/x-python",
   "name": "python",
   "nbconvert_exporter": "python",
   "pygments_lexer": "ipython3",
   "version": "3.6.13"
  }
 },
 "nbformat": 4,
 "nbformat_minor": 4
}
